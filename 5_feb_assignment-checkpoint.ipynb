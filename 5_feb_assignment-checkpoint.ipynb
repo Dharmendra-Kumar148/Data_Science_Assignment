{
 "cells": [
  {
   "cell_type": "markdown",
   "id": "133e2167",
   "metadata": {},
   "source": [
    "# 5 feb 2023_ASSIGNMENT"
   ]
  },
  {
   "cell_type": "markdown",
   "id": "342fc86e",
   "metadata": {},
   "source": [
    "### Q1. Explain Class and Object with respect to Object-Oriented Programming. Give a suitable example."
   ]
  },
  {
   "cell_type": "markdown",
   "id": "1a408a2d",
   "metadata": {},
   "source": [
    "ANS:Class in oop is the collection of methods and variables and\n",
    "    Object is the collection of real world entities by which we can asscess class variable and methods.\n",
    "    example:class table:\n",
    "                   waterproof chair():\n",
    "                      pass\n",
    "                    \n",
    "            wood=table()"
   ]
  },
  {
   "cell_type": "markdown",
   "id": "74fcb459",
   "metadata": {},
   "source": [
    "### Q2. Name the four pillars of OOPs."
   ]
  },
  {
   "cell_type": "markdown",
   "id": "5f795664",
   "metadata": {},
   "source": [
    "ANS: 1.Abstraction\n",
    "     2.Encapsulation\n",
    "     3.Inheritance\n",
    "     4.Polymorphism"
   ]
  },
  {
   "cell_type": "markdown",
   "id": "fde7f627",
   "metadata": {},
   "source": [
    "### Q3. Explain why the __init__() function is used. Give a suitable example."
   ]
  },
  {
   "cell_type": "markdown",
   "id": "98d0dce8",
   "metadata": {},
   "source": [
    "ANS:the init()function is a constructor by which we can store the data in class through class object.\n",
    "    \n",
    "    example:\n",
    "    \n",
    "    \n",
    "        class car:             ##function defition\n",
    "            def __init__(self,color,model,price):\n",
    "                self.color=color\n",
    "                self.model=model\n",
    "                self.price=price\n",
    "            \n",
    "            def return_data(self):\n",
    "                return self.color,self.model,self.price\n",
    "        \n",
    "        abc=car(navy_blue,A1,500000)   ##calling function"
   ]
  },
  {
   "cell_type": "markdown",
   "id": "fc263274",
   "metadata": {},
   "source": [
    "### Q4. Why self is used in OOPs?"
   ]
  },
  {
   "cell_type": "markdown",
   "id": "cbd18c66",
   "metadata": {},
   "source": [
    "ANS: self is nothing but reference of constructor.\n",
    "     this reference 'self' is used to fetch the data or used to storing the data in class."
   ]
  },
  {
   "cell_type": "markdown",
   "id": "247de0cc",
   "metadata": {},
   "source": [
    "### Q5. What is inheritance? Give an example for each type of inheritance."
   ]
  },
  {
   "cell_type": "markdown",
   "id": "496753fc",
   "metadata": {},
   "source": [
    "ANS: Inheritance is accessing property and characteristics of one class from another class.\n",
    "     Types of inheritance are as fallows:\n",
    "            1.Single Inheritance \n",
    "            2.Multiple Inheritance\n",
    "            3.Multi level Inheritance\n",
    "            4.Hierarichal Inheritance\n",
    "            5.Hybrid Inheritance"
   ]
  },
  {
   "cell_type": "code",
   "execution_count": null,
   "id": "2f596e84",
   "metadata": {},
   "outputs": [],
   "source": []
  }
 ],
 "metadata": {
  "kernelspec": {
   "display_name": "Python 3 (ipykernel)",
   "language": "python",
   "name": "python3"
  },
  "language_info": {
   "codemirror_mode": {
    "name": "ipython",
    "version": 3
   },
   "file_extension": ".py",
   "mimetype": "text/x-python",
   "name": "python",
   "nbconvert_exporter": "python",
   "pygments_lexer": "ipython3",
   "version": "3.9.13"
  }
 },
 "nbformat": 4,
 "nbformat_minor": 5
}
