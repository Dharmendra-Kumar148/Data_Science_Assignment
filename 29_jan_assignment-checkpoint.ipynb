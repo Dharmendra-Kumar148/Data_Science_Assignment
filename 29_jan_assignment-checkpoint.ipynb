{
 "cells": [
  {
   "cell_type": "markdown",
   "id": "02f746fc",
   "metadata": {},
   "source": [
    "## 29_jan_ASSIGNMENT"
   ]
  },
  {
   "cell_type": "markdown",
   "id": "a96306b4",
   "metadata": {},
   "source": [
    "### ANS1: Python is developed by Guido Van Rossum.\n",
    "    "
   ]
  },
  {
   "cell_type": "markdown",
   "id": "29b2d0a6",
   "metadata": {},
   "source": [
    "### ANS2:OOPs (object oriented language system) supports Python.\n",
    "    "
   ]
  },
  {
   "cell_type": "markdown",
   "id": "9530dce1",
   "metadata": {},
   "source": [
    "### ANS3: Yes,pyhton is the case sensitive."
   ]
  },
  {
   "cell_type": "markdown",
   "id": "224c08c6",
   "metadata": {},
   "source": [
    "### ANS4: .py is the python file extension."
   ]
  },
  {
   "cell_type": "markdown",
   "id": "b381e234",
   "metadata": {},
   "source": [
    "### ANS5: Python code is both first compiled and than interpreted.\n",
    "    \n",
    "      In another words first python check for program syntax compiles and than converted in to bytecode after that complied\n",
    "      bytecode is interpreted."
   ]
  },
  {
   "cell_type": "markdown",
   "id": "9ca4871b",
   "metadata": {},
   "source": [
    "### ANS6: Identation is used to define python language.\n",
    "       \n",
    "      Example: def sub(x,y):\n",
    "                   c=x+y\n",
    "                   return c\n",
    "                \n",
    "               sub(5,4)\n",
    "                   "
   ]
  },
  {
   "cell_type": "markdown",
   "id": "60779f29",
   "metadata": {},
   "source": [
    "### ANS7: # is used single line comment in python.\n",
    "      eample: # this hash tag is used for single line comment."
   ]
  },
  {
   "cell_type": "markdown",
   "id": "4278b841",
   "metadata": {},
   "source": [
    "### ANS8: sys.version is used to find the version of python."
   ]
  },
  {
   "cell_type": "markdown",
   "id": "f5d43fb1",
   "metadata": {},
   "source": [
    "### ANS9: Lambda."
   ]
  },
  {
   "cell_type": "markdown",
   "id": "883537cc",
   "metadata": {},
   "source": [
    "### ANS10: PIP stand for Precise Infectious Packages.\n",
    "       And is a tool used to install and manage python packages from the python package index (PyPI) or other online                  reppository."
   ]
  },
  {
   "cell_type": "markdown",
   "id": "6fe80c3e",
   "metadata": {},
   "source": [
    "### ANS11: few builts in function of Python are as fallows:\n",
    "        abs(), is used return absulate value of number.\n",
    "        bool(), return or convert value to Boolean value i.e.,True and False.\n",
    "        flaot(), return floating-point value from a number or string.\n",
    "        input(), take input from user as a string by default.\n",
    "        int(), convert a number in given base to decimal.\n",
    "        iter(), convert an itrable to iterator.\n",
    "        len(), returns the length of the object.\n",
    "        max(), returns the maximum of two number or the largest iterable in an item.\n",
    "        min(), return the smallest item in an iterable or minimum of two values.\n",
    "        pow(), compute the power of number.\n",
    "        print(), print output to the console.\n",
    "        sum(), sums up the number in the list.\n",
    "        "
   ]
  },
  {
   "cell_type": "markdown",
   "id": "da7f14be",
   "metadata": {},
   "source": [
    "### ANS12: the maximum possible length of an indentifier in python language is \"\"\" 79 \"\"\" characters  \n",
    "           python is a case senstitve language that collect waste.\n",
    "    "
   ]
  },
  {
   "cell_type": "markdown",
   "id": "ff49bd3c",
   "metadata": {},
   "source": [
    "### ANS13: The benefits of using python are as fallows:\n",
    "           * versatility, *open source, *high level language, *vibrant community, *work with less code, \n",
    "           *python supports: OOps, *easy syntax."
   ]
  },
  {
   "cell_type": "markdown",
   "id": "88d4397c",
   "metadata": {},
   "source": [
    "### ANS14: Python memory manager is a tool responsible for the allocation of memory to object and also its          usage.\n",
    "           all things in python are object.\n",
    "           There are two types of Memory:\n",
    "           1. Stack Memory- The memory allocation happens at the time of compilation.\n",
    "                            we can not use this memory in later program.\n",
    "           2. Heap Memory- All the datatypes, function, etc get automatically converted to object datatype and get stored \n",
    "                           in heap memory."
   ]
  },
  {
   "cell_type": "markdown",
   "id": "7a9de40b",
   "metadata": {},
   "source": [
    "### ANS15: just install python software and started to installiation by checking all the box and all done by clicking finish button \n",
    "           in the last."
   ]
  },
  {
   "cell_type": "markdown",
   "id": "1d0c8b44",
   "metadata": {},
   "source": [
    "### ANS16: yes,identation is required in python."
   ]
  },
  {
   "cell_type": "code",
   "execution_count": null,
   "id": "f6c10e17",
   "metadata": {},
   "outputs": [],
   "source": []
  }
 ],
 "metadata": {
  "kernelspec": {
   "display_name": "Python 3 (ipykernel)",
   "language": "python",
   "name": "python3"
  },
  "language_info": {
   "codemirror_mode": {
    "name": "ipython",
    "version": 3
   },
   "file_extension": ".py",
   "mimetype": "text/x-python",
   "name": "python",
   "nbconvert_exporter": "python",
   "pygments_lexer": "ipython3",
   "version": "3.9.13"
  }
 },
 "nbformat": 4,
 "nbformat_minor": 5
}
